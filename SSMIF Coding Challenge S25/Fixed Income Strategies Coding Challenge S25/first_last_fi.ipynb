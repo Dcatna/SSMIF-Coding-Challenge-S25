{
 "cells": [
  {
   "cell_type": "markdown",
   "metadata": {},
   "source": [
    "# Fixed Income Coding Challenge - Spring 2025"
   ]
  },
  {
   "cell_type": "markdown",
   "metadata": {},
   "source": [
    "Directions: For part 1 of this challenge, you will be given a dataset of annualized yields that correspond to bonds of different maturities. Each bond also has multiple yields that span the years 2015-2025. The bonds pay coupons at a semi-annual rate. You will be generating spot rates from these coupon rates using bootstrapping. For part 2, you will  construct an interest rate model to forecast the short-term price evolution as well as calculate duration and convexity to price bonds. More detail is given in each of the parts below. Feel free to add any additional helper functions where you see fit."
   ]
  },
  {
   "cell_type": "code",
   "execution_count": null,
   "metadata": {},
   "outputs": [],
   "source": [
    "'''\n",
    "\n",
    "Name:\n",
    "\n",
    "'''"
   ]
  },
  {
   "cell_type": "markdown",
   "metadata": {},
   "source": [
    "## Data/Libraries"
   ]
  },
  {
   "cell_type": "markdown",
   "metadata": {},
   "source": [
    "Load your data and libraries in here:"
   ]
  },
  {
   "cell_type": "code",
   "execution_count": null,
   "metadata": {},
   "outputs": [],
   "source": []
  },
  {
   "cell_type": "markdown",
   "metadata": {},
   "source": [
    "## Part 1: Bootstrapping"
   ]
  },
  {
   "cell_type": "markdown",
   "metadata": {},
   "source": [
    "In the first part, your goal is to utilize bootstrapping to obtain the spot rate for each bond at each point in time. You will be using the data 'yield_data.csv' which contains the coupon rates and prices for each bond. The spot rate (also known as the zero rate) is the rate of return that the investor earns without collecting coupon payments. Bootstrapping is a method used for obtaining spot rates for fixed-income instruments that pay coupons. Using these spot rates, you are to generate a spot rate curve for each year (so 11 total spot rate curves). Note down any insights you observe.\n",
    "\n",
    "Please write the following functions:\n",
    "\n",
    "bootstrapped_rates: For every bond, calculate the zero rate using the bootstrapping method. For example, you will have to get the spot rate for the 1 year from 2015, the 2 year from 2015, etc until and including the bonds from the last year (2025). You can choose how you want to return these rates.\n",
    "\n",
    "plot_spot: For each year, plot out the rates you obtained from bootstrapped_rates. You will have to do this for each year (all bonds from 2015, 2016, etc), so you should have 11 graphs total."
   ]
  },
  {
   "cell_type": "code",
   "execution_count": null,
   "metadata": {},
   "outputs": [],
   "source": []
  },
  {
   "cell_type": "markdown",
   "metadata": {},
   "source": [
    "## Part 2: Stochastic Interest Rate Model\n",
    "\n",
    "In the second part of the challenge, you will use a stochastic interest rate model of your choice to forecast short-term rate evolution as well as price impacts on a hypothetical universe of bonds. You will also explore bond duration and convexity as risk measures and alternate price forecasting tools.\n",
    "\n",
    "You will use the current SOFR rate as your starting point. You can use any interest rate model you like. If you're unsure of where to start, we recommend either of the Ho-Lee or CIR models. Resources for these models are provided below. For parameters, choose whatever you think is reasonable. Make sure you understand the model you're implementing!\n",
    "\n",
    "Please write the following functions:\n",
    "\n",
    "plot_rate_paths: Use your interest rate model to forecast and plot 100 sample short-term (overnight) rate paths over the next 4 years. \n",
    "\n",
    "plot_yield_curve: A key characteristic of fixed income is the extent to which rates affect each other. To explore this, use your interest rate model to generate ONE overnight rate path. Use this overnight rate path to forecast the evolution of longer-term rates, specifically the 3-month, 6-month, 1 year and 2 year rates. How will changes in the overnight rate impact these rates? Include comments or a text box explaining and justifying your approach.\n",
    "\n",
    "plot_bond_prices: Using the yield curve generated above, forecast the price evolution of the following bonds over a 2-year period:\n",
    "- 3-month zero-coupon bond\n",
    "- 6-month zero-coupon bond\n",
    "- 1-year zero-coupon bond\n",
    "- BONUS: 2-year coupon bond paying 1% semiannually\n",
    "\n",
    "calculate_duration: A function that calculates the duration of a bond given its time to maturity, yield and semiannual coupon rate\n",
    "\n",
    "calculate_convexity: A function that calculates the convexity of a bond given its time to maturity, yield and semiannual coupon rate\n",
    "\n",
    "BONUS: Calculate the duration and convexity of a 2-year bond paying 1% coupons semiannually. Calculate the bond's NPV using the first entry in your 2-year rate path. Using the rest of the rate path, estimate the price of the bond over time using its duration and convexity to relate price changes to rate changes. Do these results match with your original price forecast? If so, why might they differ? Comment on your results.\n",
    "\n",
    "Resources:\n",
    "\n",
    "CIR- https://www.finance-tutoring.fr/the-cox-ingersoll-ross-(cir)-model-simply-explained/\n",
    "\n",
    "Ho-Lee- https://www.bensblog.tech/fixed_income/HoLee_Model/"
   ]
  },
  {
   "cell_type": "code",
   "execution_count": null,
   "metadata": {},
   "outputs": [],
   "source": []
  },
  {
   "cell_type": "markdown",
   "metadata": {},
   "source": [
    "## Commentary"
   ]
  },
  {
   "cell_type": "markdown",
   "metadata": {},
   "source": [
    "In the cell below, write any takeaways you had from this challenge or any clarifications about any of your choices:"
   ]
  },
  {
   "cell_type": "code",
   "execution_count": null,
   "metadata": {},
   "outputs": [],
   "source": [
    "'''\n",
    "Commentary\n",
    "\n",
    "'''"
   ]
  },
  {
   "cell_type": "markdown",
   "metadata": {},
   "source": [
    "## References"
   ]
  },
  {
   "cell_type": "markdown",
   "metadata": {},
   "source": [
    "In the cell below, list any resources you used to help you with this coding challenge (including ChatGPT), and what you got out of each resource:"
   ]
  },
  {
   "cell_type": "code",
   "execution_count": null,
   "metadata": {},
   "outputs": [],
   "source": [
    "'''\n",
    "References\n",
    "\n",
    "'''"
   ]
  },
  {
   "cell_type": "markdown",
   "metadata": {},
   "source": [
    "## Submission"
   ]
  },
  {
   "cell_type": "markdown",
   "metadata": {},
   "source": [
    "Submit your file using the format \"firstname_lastname_fi\".ipynb\n",
    "\n",
    "Ex. andrew_thomas_fi.ipynb"
   ]
  }
 ],
 "metadata": {
  "kernelspec": {
   "display_name": "myenv",
   "language": "python",
   "name": "python3"
  },
  "language_info": {
   "codemirror_mode": {
    "name": "ipython",
    "version": 3
   },
   "file_extension": ".py",
   "mimetype": "text/x-python",
   "name": "python",
   "nbconvert_exporter": "python",
   "pygments_lexer": "ipython3",
   "version": "3.9.13"
  }
 },
 "nbformat": 4,
 "nbformat_minor": 2
}
